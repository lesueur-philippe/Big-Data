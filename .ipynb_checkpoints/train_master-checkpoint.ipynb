{
 "cells": [
  {
   "cell_type": "code",
   "execution_count": 16,
   "metadata": {},
   "outputs": [],
   "source": [
    "import pandas as pd\n",
    "from sklearn.model_selection import train_test_split\n",
    "from sklearn.pipeline import Pipeline\n",
    "from sklearn.feature_extraction.text import CountVectorizer\n",
    "from sklearn.feature_extraction.text import TfidfTransformer\n",
    "from sklearn.naive_bayes import MultinomialNB\n",
    "from sklearn.metrics import plot_confusion_matrix\n",
    "import numpy as np"
   ]
  },
  {
   "cell_type": "code",
   "execution_count": 17,
   "metadata": {},
   "outputs": [],
   "source": [
    "data = pd.read_csv(\"train_master.csv\")"
   ]
  },
  {
   "cell_type": "code",
   "execution_count": 18,
   "metadata": {},
   "outputs": [],
   "source": [
    "data = data.drop(\"Unnamed: 0\",axis=1)"
   ]
  },
  {
   "cell_type": "code",
   "execution_count": 19,
   "metadata": {},
   "outputs": [
    {
     "data": {
      "text/html": [
       "<div>\n",
       "<style scoped>\n",
       "    .dataframe tbody tr th:only-of-type {\n",
       "        vertical-align: middle;\n",
       "    }\n",
       "\n",
       "    .dataframe tbody tr th {\n",
       "        vertical-align: top;\n",
       "    }\n",
       "\n",
       "    .dataframe thead th {\n",
       "        text-align: right;\n",
       "    }\n",
       "</style>\n",
       "<table border=\"1\" class=\"dataframe\">\n",
       "  <thead>\n",
       "    <tr style=\"text-align: right;\">\n",
       "      <th></th>\n",
       "      <th>ID</th>\n",
       "      <th>review_content</th>\n",
       "      <th>review_title</th>\n",
       "      <th>review_stars</th>\n",
       "      <th>product</th>\n",
       "      <th>Target</th>\n",
       "    </tr>\n",
       "  </thead>\n",
       "  <tbody>\n",
       "    <tr>\n",
       "      <th>0</th>\n",
       "      <td>0</td>\n",
       "      <td>En appelant un acheteur pour demander si l'écr...</td>\n",
       "      <td>La Police s'inscrit en acheteur privé sur Pric...</td>\n",
       "      <td>5</td>\n",
       "      <td>2fbb619e3606f9b7c213e858a109cda771aa2c47ce50d5...</td>\n",
       "      <td>0</td>\n",
       "    </tr>\n",
       "    <tr>\n",
       "      <th>1</th>\n",
       "      <td>1</td>\n",
       "      <td>Alors, là, on a affaire au plus grand Navet ja...</td>\n",
       "      <td>Chef D'Oeuvre Absolu en vue...</td>\n",
       "      <td>5</td>\n",
       "      <td>7b56d9d378d9e999d293f301ac43d044cd7b4786d09afb...</td>\n",
       "      <td>1</td>\n",
       "    </tr>\n",
       "    <tr>\n",
       "      <th>2</th>\n",
       "      <td>2</td>\n",
       "      <td>Effet garanti sur la terrase. Ils donnent immé...</td>\n",
       "      <td>Effet garanti sur la terrase. Ils donnent immé...</td>\n",
       "      <td>3</td>\n",
       "      <td>7b37bf5dcb2fafd9229897910318a7dfa11a04ca36893c...</td>\n",
       "      <td>0</td>\n",
       "    </tr>\n",
       "    <tr>\n",
       "      <th>3</th>\n",
       "      <td>4</td>\n",
       "      <td>Ordinateur de bureau trés bien pour quelqu'un ...</td>\n",
       "      <td>Apple Power MAC G4</td>\n",
       "      <td>3</td>\n",
       "      <td>f574512e7d2dd1dd73c7f8f804bf16f14c932c5651a01b...</td>\n",
       "      <td>1</td>\n",
       "    </tr>\n",
       "    <tr>\n",
       "      <th>4</th>\n",
       "      <td>5</td>\n",
       "      <td>Ma fille adore, elle n'en n'était pas sûre à l...</td>\n",
       "      <td>Comme Hermione</td>\n",
       "      <td>5</td>\n",
       "      <td>a1a58f0f3a35a164fa14bff9e2c1ca8c1202c31499faa1...</td>\n",
       "      <td>1</td>\n",
       "    </tr>\n",
       "  </tbody>\n",
       "</table>\n",
       "</div>"
      ],
      "text/plain": [
       "   ID                                     review_content  \\\n",
       "0   0  En appelant un acheteur pour demander si l'écr...   \n",
       "1   1  Alors, là, on a affaire au plus grand Navet ja...   \n",
       "2   2  Effet garanti sur la terrase. Ils donnent immé...   \n",
       "3   4  Ordinateur de bureau trés bien pour quelqu'un ...   \n",
       "4   5  Ma fille adore, elle n'en n'était pas sûre à l...   \n",
       "\n",
       "                                        review_title  review_stars  \\\n",
       "0  La Police s'inscrit en acheteur privé sur Pric...             5   \n",
       "1                     Chef D'Oeuvre Absolu en vue...             5   \n",
       "2  Effet garanti sur la terrase. Ils donnent immé...             3   \n",
       "3                                 Apple Power MAC G4             3   \n",
       "4                                     Comme Hermione             5   \n",
       "\n",
       "                                             product  Target  \n",
       "0  2fbb619e3606f9b7c213e858a109cda771aa2c47ce50d5...       0  \n",
       "1  7b56d9d378d9e999d293f301ac43d044cd7b4786d09afb...       1  \n",
       "2  7b37bf5dcb2fafd9229897910318a7dfa11a04ca36893c...       0  \n",
       "3  f574512e7d2dd1dd73c7f8f804bf16f14c932c5651a01b...       1  \n",
       "4  a1a58f0f3a35a164fa14bff9e2c1ca8c1202c31499faa1...       1  "
      ]
     },
     "execution_count": 19,
     "metadata": {},
     "output_type": "execute_result"
    }
   ],
   "source": [
    "data.head()"
   ]
  },
  {
   "cell_type": "code",
   "execution_count": 20,
   "metadata": {},
   "outputs": [
    {
     "data": {
      "text/plain": [
       "'En appelant un acheteur pour demander si l\\'écran qu\\'il m\\'as acheté fonctionne toujours, il m\\'a répondu depuis le commissariat. Il était venu retirer l\\'objet en précisant à l\\'entrée de mon domicile \"je suis policier\", il est resté assis et m\\'a posé des questions sans rapport avec l\\'objet a retirer. Son numéro inscrit sur Priceminister renvoi au poste de son bureau au commissariat.'"
      ]
     },
     "execution_count": 20,
     "metadata": {},
     "output_type": "execute_result"
    }
   ],
   "source": [
    "data.review_content[0]"
   ]
  },
  {
   "cell_type": "code",
   "execution_count": 21,
   "metadata": {},
   "outputs": [],
   "source": [
    "X_train, X_tv, y_train, y_tv = train_test_split(data.review_content, data.Target, test_size=0.4)"
   ]
  },
  {
   "cell_type": "code",
   "execution_count": 22,
   "metadata": {},
   "outputs": [],
   "source": [
    "X_validation, X_test, y_validation , y_test = train_test_split(X_tv, y_tv, test_size=0.5)"
   ]
  },
  {
   "cell_type": "code",
   "execution_count": 23,
   "metadata": {},
   "outputs": [
    {
     "data": {
      "text/plain": [
       "Pipeline(steps=[('vect', CountVectorizer()), ('tfidf', TfidfTransformer()),\n",
       "                ('clf', MultinomialNB())])"
      ]
     },
     "execution_count": 23,
     "metadata": {},
     "output_type": "execute_result"
    }
   ],
   "source": [
    "text_clf = Pipeline([('vect', CountVectorizer()), ('tfidf', TfidfTransformer()), ('clf', MultinomialNB())])\n",
    "text_clf.fit(X_train, y_train)"
   ]
  },
  {
   "cell_type": "code",
   "execution_count": 24,
   "metadata": {},
   "outputs": [],
   "source": [
    "predicted = text_clf.predict(X_train)"
   ]
  },
  {
   "cell_type": "code",
   "execution_count": 25,
   "metadata": {},
   "outputs": [
    {
     "data": {
      "text/plain": [
       "0.750377143560851"
      ]
     },
     "execution_count": 25,
     "metadata": {},
     "output_type": "execute_result"
    }
   ],
   "source": [
    "np.mean(predicted == y_train)"
   ]
  },
  {
   "cell_type": "code",
   "execution_count": 26,
   "metadata": {},
   "outputs": [
    {
     "data": {
      "text/plain": [
       "0.6431144361318925"
      ]
     },
     "execution_count": 26,
     "metadata": {},
     "output_type": "execute_result"
    }
   ],
   "source": [
    "validation_fit = text_clf.predict(X_validation)\n",
    "np.mean(validation_fit == y_validation)"
   ]
  },
  {
   "cell_type": "code",
   "execution_count": 29,
   "metadata": {},
   "outputs": [
    {
     "data": {
      "text/plain": [
       "<sklearn.metrics._plot.confusion_matrix.ConfusionMatrixDisplay at 0x7fa167f51460>"
      ]
     },
     "execution_count": 29,
     "metadata": {},
     "output_type": "execute_result"
    },
    {
     "data": {
      "image/png": "[encoded data removed]",
      "text/plain": [
       "<Figure size 432x288 with 2 Axes>"
      ]
     },
     "metadata": {
      "needs_background": "light"
     },
     "output_type": "display_data"
    }
   ],
   "source": [
    "plot_confusion_matrix(text_clf, X_validation, y_validation)"
   ]
  },
  {
   "cell_type": "code",
   "execution_count": 14,
   "metadata": {},
   "outputs": [
    {
     "data": {
      "text/plain": [
       "0.6413003324713705"
      ]
     },
     "execution_count": 14,
     "metadata": {},
     "output_type": "execute_result"
    }
   ],
   "source": [
    "test_fit = text_clf.predict(X_test)\n",
    "np.mean(test_fit == y_test)"
   ]
  },
  {
   "cell_type": "code",
   "execution_count": 30,
   "metadata": {},
   "outputs": [
    {
     "data": {
      "text/plain": [
       "<sklearn.metrics._plot.confusion_matrix.ConfusionMatrixDisplay at 0x7fa16c032280>"
      ]
     },
     "execution_count": 30,
     "metadata": {},
     "output_type": "execute_result"
    },
    {
     "data": {
      "image/png": "[encoded data removed]",
      "text/plain": [
       "<Figure size 432x288 with 2 Axes>"
      ]
     },
     "metadata": {
      "needs_background": "light"
     },
     "output_type": "display_data"
    }
   ],
   "source": [
    "plot_confusion_matrix(text_clf, X_test, y_test)"
   ]
  }
 ],
 "metadata": {
  "kernelspec": {
   "display_name": "Python 3",
   "language": "python",
   "name": "python3"
  },
  "language_info": {
   "codemirror_mode": {
    "name": "ipython",
    "version": 3
   },
   "file_extension": ".py",
   "mimetype": "text/x-python",
   "name": "python",
   "nbconvert_exporter": "python",
   "pygments_lexer": "ipython3",
   "version": "3.8.5"
  }
 },
 "nbformat": 4,
 "nbformat_minor": 5
}
