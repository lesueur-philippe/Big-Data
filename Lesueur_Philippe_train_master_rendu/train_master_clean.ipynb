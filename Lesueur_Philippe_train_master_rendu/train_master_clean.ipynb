{
 "cells": [
  {
   "cell_type": "markdown",
   "metadata": {},
   "source": [
    "# Lesueur Philippe"
   ]
  },
  {
   "cell_type": "markdown",
   "metadata": {},
   "source": [
    "## Imports"
   ]
  },
  {
   "cell_type": "code",
   "execution_count": 1,
   "metadata": {},
   "outputs": [],
   "source": [
    "import pandas as pd\n",
    "from sklearn.model_selection import train_test_split\n",
    "from sklearn.pipeline import Pipeline\n",
    "from sklearn.feature_extraction.text import CountVectorizer\n",
    "from sklearn.feature_extraction.text import TfidfTransformer\n",
    "from sklearn.naive_bayes import MultinomialNB\n",
    "from sklearn.metrics import plot_confusion_matrix\n",
    "from sklearn.metrics import plot_roc_curve\n",
    "from sklearn.svm import SVC\n",
    "import numpy as np\n",
    "import matplotlib.pyplot as plt\n",
    "from sklearn import preprocessing"
   ]
  },
  {
   "cell_type": "markdown",
   "metadata": {},
   "source": [
    "## Data recuperation"
   ]
  },
  {
   "cell_type": "code",
   "execution_count": null,
   "metadata": {},
   "outputs": [],
   "source": [
    "data = pd.read_csv(\"train_master.csv\")"
   ]
  },
  {
   "cell_type": "markdown",
   "metadata": {},
   "source": [
    "## Data preparation"
   ]
  },
  {
   "cell_type": "code",
   "execution_count": null,
   "metadata": {},
   "outputs": [],
   "source": [
    "data_train, data_tv, y_train, y_tv = train_test_split(data.drop( [\"Target\",\"ID\", \"product\"],axis=1 ), data.Target, test_size=0.4)"
   ]
  },
  {
   "cell_type": "code",
   "execution_count": null,
   "metadata": {},
   "outputs": [],
   "source": [
    "data_validation, data_test, y_validation , y_test = train_test_split(data_tv, y_tv, test_size=0.5)"
   ]
  },
  {
   "cell_type": "code",
   "execution_count": null,
   "metadata": {},
   "outputs": [],
   "source": [
    "X_train = data_train.review_content\n",
    "X_validation = data_validation.review_content\n",
    "X_test = data_test.review_content"
   ]
  },
  {
   "cell_type": "markdown",
   "metadata": {},
   "source": [
    "## Classifier preparation"
   ]
  },
  {
   "cell_type": "code",
   "execution_count": null,
   "metadata": {},
   "outputs": [],
   "source": [
    "text_clf = Pipeline([('vect', CountVectorizer()), ('tfidf', TfidfTransformer()), ('clf', MultinomialNB())])\n",
    "text_clf.fit(X_train, y_train)"
   ]
  },
  {
   "cell_type": "markdown",
   "metadata": {},
   "source": [
    "## Scoring"
   ]
  },
  {
   "cell_type": "code",
   "execution_count": null,
   "metadata": {},
   "outputs": [],
   "source": [
    "train_score = text_clf.score(X_train, y_train)\n",
    "validation_score = text_clf.score(X_validation, y_validation)\n",
    "test_score = text_clf.score(X_test, y_test)"
   ]
  },
  {
   "cell_type": "markdown",
   "metadata": {},
   "source": [
    "## Result visualisation"
   ]
  },
  {
   "cell_type": "code",
   "execution_count": null,
   "metadata": {},
   "outputs": [],
   "source": [
    "print(\"Train score : {}\".format(train_score))\n",
    "plot_roc_curve(text_clf, X_train, y_train)\n",
    "plt.plot([0,1])\n",
    "plt.title(\"Train ROC curve\")\n",
    "plt.show()\n",
    "\n",
    "plot_confusion_matrix(text_clf, X_train, y_train)\n",
    "plt.title(\"Train confusion matrix\")\n",
    "plt.show()\n",
    "\n",
    "print(\"\\n\\n\")\n",
    "\n",
    "\n",
    "print(\"Validation score : {}\".format(validation_score))\n",
    "plot_roc_curve(text_clf, X_validation, y_validation)\n",
    "plt.plot([0,1])\n",
    "plt.title(\"Validation ROC curve\")\n",
    "plt.show()\n",
    "\n",
    "plot_confusion_matrix(text_clf, X_validation, y_validation)\n",
    "plt.title(\"Validation confusion matrix\")\n",
    "plt.show()\n",
    "\n",
    "print(\"\\n\\n\")\n",
    "\n",
    "print(\"Test score : {}\".format(test_score))\n",
    "plot_roc_curve(text_clf, X_test, y_test)\n",
    "plt.plot([0,1])\n",
    "plt.title(\"Test ROC curve\")\n",
    "plt.show()\n",
    "\n",
    "plot_confusion_matrix(text_clf, X_test, y_test)\n",
    "plt.title(\"Test confusion matrix\")\n",
    "plt.show()"
   ]
  }
 ],
 "metadata": {
  "kernelspec": {
   "display_name": "Python 3",
   "language": "python",
   "name": "python3"
  },
  "language_info": {
   "codemirror_mode": {
    "name": "ipython",
    "version": 3
   },
   "file_extension": ".py",
   "mimetype": "text/x-python",
   "name": "python",
   "nbconvert_exporter": "python",
   "pygments_lexer": "ipython3",
   "version": "3.8.5"
  }
 },
 "nbformat": 4,
 "nbformat_minor": 4
}
